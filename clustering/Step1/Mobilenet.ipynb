{
 "cells": [
  {
   "cell_type": "markdown",
   "metadata": {},
   "source": [
    "# Geolocation project\n",
    "\n",
    "## Prepare Device Status Data\n",
    "\n",
    "#### Distributed Data and Data Engineering Spring 2020\n",
    "\n",
    "#### By: Sam Watson"
   ]
  },
  {
   "cell_type": "markdown",
   "metadata": {},
   "source": [
    "Review the contents of the file data/devicestatus.txt. Upload this file to a S3 bucket. You will  have  to  pre-process  the  data  in  order  to  get  it  into  a  standardized  format  for  later processing. This is    a common part of the ETL (Extract-Load-Transform) process calleddata scrubbing."
   ]
  },
  {
   "cell_type": "markdown",
   "metadata": {},
   "source": [
    "The input data contains information collected from mobile devices on Loudacre’s network, including device ID, current status, location and so on. Loudacre Mobile is a (fictional) fast- growing  wireless  carrier  that  provides  mobile  service  to  customers  throughout  western  USA. Because Loudacre previously acquired other mobile provider’s networks, the data from different subnetworks has a different format. Note that the records in this file have different field delimiters: some use commas, some use pipes (|) and so on."
   ]
  },
  {
   "cell_type": "markdown",
   "metadata": {},
   "source": [
    "Your task is to use PySpark in Jupyter Notebooks to:\n",
    "- Load the dataset\n",
    "- Determine which delimiter to use (hint: the character at position 19 is the first use of the delimiter)\n",
    "- Filter  out  any  records  which  do  not  parse  correctly  (hint:  each  record  should  have  exactly 14 values)\n",
    "- Extract the date (first field), model (second field), device ID (third field), and latitude and  longitude  (13th  and  14th  fields  respectively).  You might  want  to  store  latitude  and longitude as the first two fields to make it consistent with the other two datasets.\n",
    "- Filter out locations that have a latitude and longitude of 0. \n",
    "- The model field contains the device manufacturer and model name (e.g. Ronin S2.) Split this field by spaces to separate the manufacturer from the model (e.g. manufac- turer Ronin, model S2.)\n",
    "- Save the extracted data to comma delimited text files in S3. \n",
    "- Confirm that the data in the file(s) was saved correctly. Provide a screenshot nameddevicedata.pngshowing a couple of records in your Github repository.\n",
    "- Visualize  the  (latitude,  longitude)  pairs  of  the  device  location  data.  You do  not  have  to  use SPARK for  the  visualization.  You  can  use  any  technique  and  3rd  party  library "
   ]
  },
  {
   "cell_type": "code",
   "execution_count": 2,
   "metadata": {},
   "outputs": [],
   "source": [
    "#importing pyspark\n",
    "from pyspark import SparkContext"
   ]
  },
  {
   "cell_type": "code",
   "execution_count": 3,
   "metadata": {},
   "outputs": [],
   "source": [
    "#getting SparkContext\n",
    "sc=SparkContext.getOrCreate()"
   ]
  },
  {
   "cell_type": "code",
   "execution_count": 1,
   "metadata": {},
   "outputs": [],
   "source": [
    "filepath=\"s3a://geocluster/dataset1\""
   ]
  },
  {
   "cell_type": "code",
   "execution_count": 4,
   "metadata": {},
   "outputs": [],
   "source": [
    "#loading the dataset\n",
    "lines=sc.textFile(str(filepath)+\"/devicestatus.txt\")"
   ]
  },
  {
   "cell_type": "code",
   "execution_count": 5,
   "metadata": {},
   "outputs": [
    {
     "data": {
      "text/plain": [
       "pyspark.rdd.RDD"
      ]
     },
     "execution_count": 5,
     "metadata": {},
     "output_type": "execute_result"
    }
   ],
   "source": [
    "type(lines)"
   ]
  },
  {
   "cell_type": "code",
   "execution_count": 6,
   "metadata": {},
   "outputs": [
    {
     "data": {
      "text/plain": [
       "[u'2014-03-15:10:10:20,Sorrento F41L,8cc3b47e-bd01-4482-b500-28f2342679af,7,24,39,enabled,disabled,connected,55,67,12,33.6894754264,-117.543308253',\n",
       " u'2014-03-15:10:10:20|MeeToo 1.0|ef8c7564-0a1a-4650-a655-c8bbd5f8f943|0|31|63|70|39|27|enabled|enabled|enabled|37.4321088904|-121.485029632',\n",
       " u'2014-03-15:10:10:20|MeeToo 1.0|23eba027-b95a-4729-9a4b-a3cca51c5548|0|20|21|86|54|34|enabled|enabled|enabled|39.4378908349|-120.938978486',\n",
       " u'2014-03-15:10:10:20,Sorrento F41L,707daba1-5640-4d60-a6d9-1d6fa0645be0,8,22,60,enabled,enabled,disabled,68,91,17,39.3635186767,-119.400334708',\n",
       " u'2014-03-15:10:10:20,Ronin Novelty Note 1,db66fe81-aa55-43b4-9418-fc6e7a00f891,0,13,47,70,enabled,enabled,enabled,10,45,33.1913581092,-116.448242643',\n",
       " u'2014-03-15:10:10:20,Sorrento F41L,ffa18088-69a0-433e-84b8-006b2b9cc1d0,3,10,36,enabled,connected,enabled,53,58,42,33.8343543748,-117.330000857',\n",
       " u'2014-03-15:10:10:20,Sorrento F33L,66d678e6-9c87-48d2-a415-8d5035e54a23,1,34,74,enabled,disabled,enabled,57,42,15,37.3803954321,-121.840756755',\n",
       " u'2014-03-15:10:10:20|MeeToo 4.1|673f7e4b-d52b-44fc-8826-aea460c3481a|1|16|77|61|24|50|enabled|disabled|enabled|34.1841062345|-117.9435329',\n",
       " u'2014-03-15:10:10:20,Ronin Novelty Note 2,a678ccc3-b0d2-452d-bf89-85bd095e28ee,0,10,97,63,enabled,enabled,connected,48,4,32.2850556785,-111.819583734',\n",
       " u'2014-03-15:10:10:20,Sorrento F41L,86bef6ae-2f1c-42ec-aa67-6acecd7b0675,9,27,35,enabled,enabled,enabled,62,41,19,45.2400522984,-122.377467861',\n",
       " u'2014-03-15:10:10:20,iFruit 3,27178d24-3a61-42f7-a784-e3263f25cc6f,1,30,91,enabled,enabled,enabled,89,41,17,37.9248961741,-122.206868167',\n",
       " u'2014-03-15:10:10:20/Titanic 2400/b4a15931-9a69-469f-9823-a45974472c51/21/96/63/38/11/0/enabled/disabled/enabled/38.1653163975/-122.151608378',\n",
       " u'2014-03-15:10:10:20,Ronin S1,e75dc777-b531-4dbd-80d5-39c772666e6a,0,10,20,47,enabled,connected,enabled,19,36,33.323126641,-116.472234745',\n",
       " u'2014-03-15:10:10:20,Ronin Novelty Note 3,d4ebd9ae-4dad-4fb4-ba1d-d2a9610a458d,0,13,97,63,enabled,enabled,enabled,41,36,33.1774985363,-116.889226299',\n",
       " u'2014-03-15:10:10:20,Ronin Novelty Note 1,b954db08-1f97-4311-8d42-1a7ba39d8dcf,0,23,81,92,enabled,enabled,enabled,4,12,32.2083493316,-111.434102713']"
      ]
     },
     "execution_count": 6,
     "metadata": {},
     "output_type": "execute_result"
    }
   ],
   "source": [
    "#first 15 rows\n",
    "lines.take(15)"
   ]
  },
  {
   "cell_type": "markdown",
   "metadata": {},
   "source": [
    "#### Above are the first 15 lines in the RDD. There are three different types of delimiters being used here: \",\", \"|\", and \"/\"."
   ]
  },
  {
   "cell_type": "markdown",
   "metadata": {},
   "source": [
    "#### To parse the data uniformly, I replaced the \"/\" and \"|\" in the each line with a \",\"."
   ]
  },
  {
   "cell_type": "code",
   "execution_count": 7,
   "metadata": {},
   "outputs": [],
   "source": [
    "replace=lines.map(lambda string: string.replace(\"/\",\",\")).map(lambda string: string.replace(\"|\",\",\"))"
   ]
  },
  {
   "cell_type": "markdown",
   "metadata": {},
   "source": [
    "#### Afterwards, I split each line by the (now standardized) delimeter \",\""
   ]
  },
  {
   "cell_type": "code",
   "execution_count": 9,
   "metadata": {},
   "outputs": [],
   "source": [
    "linesplit=replace.map(lambda element: element.split(\",\"))"
   ]
  },
  {
   "cell_type": "markdown",
   "metadata": {},
   "source": [
    "#### Then, I counted the lengths of the lists on each line in the RDD, and remove duplicates. If the steps above truly make the uniform, then all lists should have 14 elements, and the output of the below cell will have 1 value, 14."
   ]
  },
  {
   "cell_type": "code",
   "execution_count": 10,
   "metadata": {},
   "outputs": [
    {
     "data": {
      "text/plain": [
       "[14]"
      ]
     },
     "execution_count": 10,
     "metadata": {},
     "output_type": "execute_result"
    }
   ],
   "source": [
    "linesplit.map(lambda x: len(x)).distinct().collect()"
   ]
  },
  {
   "cell_type": "markdown",
   "metadata": {},
   "source": [
    "#### Next, I am only keeping selected columns. I will only be keeping the latitute/longitute (13th and 14th element), the date (first element), the model (second field), and the device id (third field). \n",
    "\n",
    "#### I needed to convert the list to a numpy array to grab specific indicies in my list. At the end, I convert the array back to a list "
   ]
  },
  {
   "cell_type": "code",
   "execution_count": 30,
   "metadata": {},
   "outputs": [],
   "source": [
    "import numpy as np\n",
    "data=linesplit.map(lambda x: np.asarray(x)[[12,13,0,1,2]]).map(lambda x: x.tolist())"
   ]
  },
  {
   "cell_type": "code",
   "execution_count": 31,
   "metadata": {},
   "outputs": [
    {
     "data": {
      "text/plain": [
       "[[u'33.6894754264',\n",
       "  u'-117.543308253',\n",
       "  u'2014-03-15:10:10:20',\n",
       "  u'Sorrento F41L',\n",
       "  u'8cc3b47e-bd01-4482-b500-28f2342679af'],\n",
       " [u'37.4321088904',\n",
       "  u'-121.485029632',\n",
       "  u'2014-03-15:10:10:20',\n",
       "  u'MeeToo 1.0',\n",
       "  u'ef8c7564-0a1a-4650-a655-c8bbd5f8f943']]"
      ]
     },
     "execution_count": 31,
     "metadata": {},
     "output_type": "execute_result"
    }
   ],
   "source": [
    "data.take(2)"
   ]
  },
  {
   "cell_type": "markdown",
   "metadata": {},
   "source": [
    "#### From there, I filter out locations where the latitute and longitute (now the first and second field) equal 0."
   ]
  },
  {
   "cell_type": "code",
   "execution_count": 32,
   "metadata": {},
   "outputs": [
    {
     "data": {
      "text/plain": [
       "94039"
      ]
     },
     "execution_count": 32,
     "metadata": {},
     "output_type": "execute_result"
    }
   ],
   "source": [
    "data=data.filter(lambda x: x[0]!='0').filter(lambda x: x[1]!='0')\n",
    "data.count()"
   ]
  },
  {
   "cell_type": "markdown",
   "metadata": {},
   "source": [
    "#### Finally, I separate out the device manufacturer and model name from the model field (now the 4th list element). This is done by splitting the model field by spaces. I then take the first two elements of that splitted string, and tack them on at the end of my row as two new columns."
   ]
  },
  {
   "cell_type": "code",
   "execution_count": 50,
   "metadata": {},
   "outputs": [],
   "source": [
    "data=data.map(lambda x: x+x[3].split(\" \")[:2])"
   ]
  },
  {
   "cell_type": "markdown",
   "metadata": {},
   "source": [
    "#### Just to make sure I didn't add more fields than I should of:"
   ]
  },
  {
   "cell_type": "code",
   "execution_count": 51,
   "metadata": {},
   "outputs": [
    {
     "data": {
      "text/plain": [
       "[7]"
      ]
     },
     "execution_count": 51,
     "metadata": {},
     "output_type": "execute_result"
    }
   ],
   "source": [
    "data.map(lambda x: len(x)).distinct().collect()"
   ]
  },
  {
   "cell_type": "markdown",
   "metadata": {},
   "source": [
    "#### Great! Now i have an RDD, containing the fields: \n",
    "#### (latitude, longitude, timestamp, the full model name, the device id, the model manufacturer, and the model name)."
   ]
  },
  {
   "cell_type": "markdown",
   "metadata": {},
   "source": [
    "#### Now, I will save the cleaned data as a csv file back in my S3 Bucket"
   ]
  },
  {
   "cell_type": "code",
   "execution_count": 70,
   "metadata": {},
   "outputs": [],
   "source": [
    "data.saveAsTextFile(\"s3a://geocluster/dataset1/dataset1clean.csv\")"
   ]
  },
  {
   "cell_type": "markdown",
   "metadata": {},
   "source": [
    "#### Showing that data was sucessfully loaded into s3:"
   ]
  },
  {
   "cell_type": "code",
   "execution_count": 82,
   "metadata": {},
   "outputs": [],
   "source": [
    "loaddata=spark.read.format('csv').options(header='false').load(\"s3a://geocluster/dataset1/dataset1clean.csv\")"
   ]
  },
  {
   "cell_type": "code",
   "execution_count": 83,
   "metadata": {},
   "outputs": [
    {
     "data": {
      "text/plain": [
       "[Row(_c0=u\"[u'33.6894754264'\", _c1=u\" u'-117.543308253'\", _c2=u\" u'2014-03-15:10:10:20'\", _c3=u\" u'Sorrento F41L'\", _c4=u\" u'8cc3b47e-bd01-4482-b500-28f2342679af'\", _c5=u\" u'Sorrento'\", _c6=u\" u'F41L']\"),\n",
       " Row(_c0=u\"[u'37.4321088904'\", _c1=u\" u'-121.485029632'\", _c2=u\" u'2014-03-15:10:10:20'\", _c3=u\" u'MeeToo 1.0'\", _c4=u\" u'ef8c7564-0a1a-4650-a655-c8bbd5f8f943'\", _c5=u\" u'MeeToo'\", _c6=u\" u'1.0']\"),\n",
       " Row(_c0=u\"[u'39.4378908349'\", _c1=u\" u'-120.938978486'\", _c2=u\" u'2014-03-15:10:10:20'\", _c3=u\" u'MeeToo 1.0'\", _c4=u\" u'23eba027-b95a-4729-9a4b-a3cca51c5548'\", _c5=u\" u'MeeToo'\", _c6=u\" u'1.0']\"),\n",
       " Row(_c0=u\"[u'39.3635186767'\", _c1=u\" u'-119.400334708'\", _c2=u\" u'2014-03-15:10:10:20'\", _c3=u\" u'Sorrento F41L'\", _c4=u\" u'707daba1-5640-4d60-a6d9-1d6fa0645be0'\", _c5=u\" u'Sorrento'\", _c6=u\" u'F41L']\"),\n",
       " Row(_c0=u\"[u'33.1913581092'\", _c1=u\" u'-116.448242643'\", _c2=u\" u'2014-03-15:10:10:20'\", _c3=u\" u'Ronin Novelty Note 1'\", _c4=u\" u'db66fe81-aa55-43b4-9418-fc6e7a00f891'\", _c5=u\" u'Ronin'\", _c6=u\" u'Novelty']\")]"
      ]
     },
     "execution_count": 83,
     "metadata": {},
     "output_type": "execute_result"
    }
   ],
   "source": [
    "loaddata.take(5)"
   ]
  },
  {
   "cell_type": "markdown",
   "metadata": {},
   "source": [
    "#### Now Lets do a quick visualization of the data!"
   ]
  },
  {
   "cell_type": "code",
   "execution_count": 92,
   "metadata": {},
   "outputs": [],
   "source": [
    "import matplotlib.pyplot as plt"
   ]
  },
  {
   "cell_type": "code",
   "execution_count": 136,
   "metadata": {},
   "outputs": [],
   "source": [
    "lats=data.map(lambda x: x[0]).collect()\n",
    "longs=data.map(lambda x: x[1]).collect()"
   ]
  },
  {
   "cell_type": "code",
   "execution_count": 137,
   "metadata": {},
   "outputs": [],
   "source": [
    "def floatconvert(l):\n",
    "    l2=[]\n",
    "    for el in l:\n",
    "        l2.append(float(el))\n",
    "    return l2"
   ]
  },
  {
   "cell_type": "code",
   "execution_count": 138,
   "metadata": {},
   "outputs": [],
   "source": [
    "lats=floatconvert(lats)\n",
    "longs=floatconvert(longs)"
   ]
  },
  {
   "cell_type": "code",
   "execution_count": 153,
   "metadata": {},
   "outputs": [
    {
     "data": {
      "image/png": "[encoded data removed]",
      "text/plain": [
       "<Figure size 720x720 with 1 Axes>"
      ]
     },
     "metadata": {
      "needs_background": "light"
     },
     "output_type": "display_data"
    }
   ],
   "source": [
    "plt.figure(figsize=(10,10))\n",
    "plt.scatter(lats,longs,)\n",
    "plt.title(\"Latitude/Longitude of Device Data\")\n",
    "plt.xlabel('Latitude')\n",
    "plt.ylabel('Longitude')\n",
    "\n",
    "plt.show()"
   ]
  },
  {
   "cell_type": "markdown",
   "metadata": {},
   "source": [
    "#### Neat!"
   ]
  },
  {
   "cell_type": "code",
   "execution_count": null,
   "metadata": {},
   "outputs": [],
   "source": []
  }
 ],
 "metadata": {
  "kernelspec": {
   "display_name": "Python 2",
   "language": "python",
   "name": "python2"
  },
  "language_info": {
   "codemirror_mode": {
    "name": "ipython",
    "version": 2
   },
   "file_extension": ".py",
   "mimetype": "text/x-python",
   "name": "python",
   "nbconvert_exporter": "python",
   "pygments_lexer": "ipython2",
   "version": "2.7.16"
  }
 },
 "nbformat": 4,
 "nbformat_minor": 2
}
