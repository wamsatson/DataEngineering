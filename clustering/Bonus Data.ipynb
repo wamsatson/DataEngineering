{
 "cells": [
  {
   "cell_type": "markdown",
   "metadata": {},
   "source": [
    "# Geolocation project\n",
    "\n",
    "## Bonus: Big Data and Cloud Execution\n",
    "\n",
    "#### Distributed Data and Data Engineering Spring 2020\n",
    "\n",
    "#### By: Sam Watson"
   ]
  },
  {
   "cell_type": "markdown",
   "metadata": {},
   "source": [
    "I found another, even bigger dataset, and will apply the same k-means approach to it."
   ]
  },
  {
   "cell_type": "markdown",
   "metadata": {},
   "source": [
    "#### About the Data:\n",
    "\n",
    "The data was retrieved from the US Department of Transportation. The website holds all airline data reported to the U.S. Department of Transportation (DOT) from the top 12 U.S air carriers. The data was borrowed from my previous semster's assigment in Deep Learning. I am using all of 2018 flights that experienced a delay, and will cluster the data around the total distance and total delay time. The total number of records here is about 1.4 million.\n",
    "\n",
    "Link to dataset: https://transtats.bts.gov/ONTIME/\n"
   ]
  },
  {
   "cell_type": "code",
   "execution_count": 23,
   "metadata": {},
   "outputs": [],
   "source": [
    "#importing modules!\n",
    "import pyspark\n",
    "from pyspark.sql.functions import *"
   ]
  },
  {
   "cell_type": "markdown",
   "metadata": {},
   "source": [
    "#### Loading the Data:"
   ]
  },
  {
   "cell_type": "code",
   "execution_count": 26,
   "metadata": {},
   "outputs": [
    {
     "name": "stdout",
     "output_type": "stream",
     "text": [
      "+---+--------+-------------+-------------+---------+--------------+-------------------+-----+\n",
      "|_c0|DISTANCE|CARRIER_DELAY|WEATHER_DELAY|NAS_DELAY|SECURITY_DELAY|LATE_AIRCRAFT_DELAY|DELAY|\n",
      "+---+--------+-------------+-------------+---------+--------------+-------------------+-----+\n",
      "| 11|   316.0|        121.0|          0.0|      8.0|           0.0|                0.0|129.0|\n",
      "| 14|   763.0|          0.0|         11.0|      0.0|           0.0|               62.0| 73.0|\n",
      "| 15|  2218.0|         54.0|          0.0|      1.0|           0.0|                0.0| 55.0|\n",
      "| 16|  2500.0|          7.0|          0.0|      0.0|           0.0|               18.0| 25.0|\n",
      "| 17|  1068.0|         29.0|          0.0|      0.0|           0.0|                0.0| 29.0|\n",
      "| 27|  1167.0|         27.0|          0.0|      0.0|           0.0|                0.0| 27.0|\n",
      "| 56|   403.0|          0.0|         26.0|      0.0|           0.0|                0.0| 26.0|\n",
      "| 61|   177.0|          0.0|         18.0|      0.0|           0.0|               57.0| 75.0|\n",
      "| 63|   266.0|         12.0|          0.0|      0.0|           0.0|              112.0|124.0|\n",
      "| 66|   109.0|          0.0|          0.0|    291.0|           0.0|                0.0|291.0|\n",
      "+---+--------+-------------+-------------+---------+--------------+-------------------+-----+\n",
      "only showing top 10 rows\n",
      "\n"
     ]
    }
   ],
   "source": [
    "data=spark.read.format('csv').options(header='true').load(\"s3a://geocluster/flightdelay.csv\")\n",
    "data.show(10)"
   ]
  },
  {
   "cell_type": "code",
   "execution_count": 29,
   "metadata": {},
   "outputs": [
    {
     "data": {
      "text/plain": [
       "1352710"
      ]
     },
     "execution_count": 29,
     "metadata": {},
     "output_type": "execute_result"
    }
   ],
   "source": [
    "data.count()"
   ]
  },
  {
   "cell_type": "code",
   "execution_count": 31,
   "metadata": {},
   "outputs": [],
   "source": [
    "data=data.withColumn('DISTANCE',data['DISTANCE'].cast(\"float\"))\n",
    "data=data.withColumn('DELAY',data['DELAY'].cast(\"float\"))"
   ]
  },
  {
   "cell_type": "code",
   "execution_count": 33,
   "metadata": {},
   "outputs": [
    {
     "name": "stdout",
     "output_type": "stream",
     "text": [
      "+--------+-----+\n",
      "|DISTANCE|DELAY|\n",
      "+--------+-----+\n",
      "|   316.0|129.0|\n",
      "|   763.0| 73.0|\n",
      "|  2218.0| 55.0|\n",
      "|  2500.0| 25.0|\n",
      "|  1068.0| 29.0|\n",
      "|  1167.0| 27.0|\n",
      "|   403.0| 26.0|\n",
      "|   177.0| 75.0|\n",
      "|   266.0|124.0|\n",
      "|   109.0|291.0|\n",
      "|   447.0| 28.0|\n",
      "|   723.0| 64.0|\n",
      "|  2218.0| 16.0|\n",
      "|   862.0| 28.0|\n",
      "|  1182.0| 72.0|\n",
      "|   191.0| 30.0|\n",
      "|  1346.0|117.0|\n",
      "|  1303.0|269.0|\n",
      "|  1182.0| 31.0|\n",
      "|   200.0|100.0|\n",
      "+--------+-----+\n",
      "only showing top 20 rows\n",
      "\n"
     ]
    }
   ],
   "source": [
    "data=data.select(\"DISTANCE\",\"DELAY\")\n",
    "data.show()"
   ]
  },
  {
   "cell_type": "markdown",
   "metadata": {},
   "source": [
    "#### Making my Kmeans Functions!"
   ]
  },
  {
   "cell_type": "code",
   "execution_count": 34,
   "metadata": {},
   "outputs": [
    {
     "name": "stderr",
     "output_type": "stream",
     "text": [
      "<ipython-input-34-12d9a13f0fd3>:4: SyntaxWarning: import * only allowed at module level\n",
      "  def mykmeans(data,val,dist):\n"
     ]
    }
   ],
   "source": [
    "#creating a function that will calculate kmeans for a given dataset with columns \"_c0\", \"_c1\". \n",
    "#the function takes how many clusters, and why distance measure (euclidean/cosine) as input parameters\n",
    "\n",
    "def mykmeans(data,val,dist):\n",
    "    #importing libraries\n",
    "    import pyspark\n",
    "    from pyspark.sql.functions import *\n",
    "    from pyspark.ml.feature import VectorAssembler\n",
    "    from pyspark.ml.clustering import KMeans\n",
    "    #parsing the data as input pairs\n",
    "    vecAssembler = VectorAssembler(inputCols=[\"DISTANCE\",\"DELAY\"],outputCol=\"features\")\n",
    "    new = vecAssembler.transform(data).cache()\n",
    "    kmeans = KMeans(k=int(val),seed=1,distanceMeasure=str(dist))\n",
    "    model=kmeans.fit(new.select(\"features\"))\n",
    "    transformed=model.transform(new)\n",
    "    #getting centers:\n",
    "    centers=model.clusterCenters()\n",
    "\n",
    "    return transformed,centers"
   ]
  },
  {
   "cell_type": "code",
   "execution_count": 37,
   "metadata": {},
   "outputs": [],
   "source": [
    "#creating a function that takes the output of mykmeans function, and plots it\n",
    "\n",
    "def myplotter(data,val,dist):\n",
    "    #import libraries \n",
    "    import matplotlib.pyplot as plt\n",
    "    import numpy as np\n",
    "    #make title\n",
    "    title='Flight Distance/Flight Delay with k= '+str(val)+' and '+str(dist)+' distance'\n",
    "    #getting clustered data\n",
    "    outputs,centers=mykmeans(data,val,dist)\n",
    "\n",
    "    plt.figure(figsize=(6,6))\n",
    "    #plot each cluster\n",
    "    for i in range(val):\n",
    "        dftoplot=outputs.filter(outputs.prediction==i)\n",
    "        lats=dftoplot.select('DISTANCE').collect()\n",
    "        lats = np.asarray(lats)\n",
    "        lats=lats.T[0]\n",
    "        longs=dftoplot.select('DELAY').collect()\n",
    "        longs = np.asarray(longs)\n",
    "        longs=longs.T[0]\n",
    "        plt.scatter(lats,longs)\n",
    "    #plotting centers\n",
    "    for i in range(len(centers)):\n",
    "        plt.scatter(centers[i][0],centers[i][1],c='black',s=30,alpha=.7)\n",
    "    plt.title(title)\n",
    "    plt.xlabel('Distance')\n",
    "    plt.ylabel('Delay')\n",
    "    return plt.show"
   ]
  },
  {
   "cell_type": "markdown",
   "metadata": {},
   "source": [
    "### Using the Kmeans Function\n",
    "\n",
    "Once with threading, and once without!"
   ]
  },
  {
   "cell_type": "code",
   "execution_count": 41,
   "metadata": {},
   "outputs": [
    {
     "name": "stdout",
     "output_type": "stream",
     "text": [
      "CPU times: user 31.4 ms, sys: 13.1 ms, total: 44.5 ms\n",
      "Wall time: 12.5 s\n"
     ]
    }
   ],
   "source": [
    "%%time\n",
    "\n",
    "from multiprocessing.pool import ThreadPool\n",
    "\n",
    "# allow up to 3 concurrent threads\n",
    "pool = ThreadPool(3)\n",
    "# each dataset\n",
    "parameters = [data]\n",
    "\n",
    "pool.map(lambda dataset: mykmeans(dataset,4,'euclidean'), parameters)"
   ]
  },
  {
   "cell_type": "code",
   "execution_count": 42,
   "metadata": {},
   "outputs": [
    {
     "name": "stdout",
     "output_type": "stream",
     "text": [
      "CPU times: user 44.2 s, sys: 2.48 s, total: 46.6 s\n",
      "Wall time: 57.2 s\n"
     ]
    },
    {
     "data": {
      "text/plain": [
       "<function matplotlib.pyplot.show>"
      ]
     },
     "execution_count": 42,
     "metadata": {},
     "output_type": "execute_result"
    },
    {
     "data": {
      "image/png": "[encoded data removed]",
      "text/plain": [
       "<Figure size 432x432 with 1 Axes>"
      ]
     },
     "metadata": {
      "needs_background": "light"
     },
     "output_type": "display_data"
    }
   ],
   "source": [
    "%%time\n",
    "\n",
    "myplotter(data,4,'euclidean')"
   ]
  }
 ],
 "metadata": {
  "kernelspec": {
   "display_name": "Python 2",
   "language": "python",
   "name": "python2"
  },
  "language_info": {
   "codemirror_mode": {
    "name": "ipython",
    "version": 2
   },
   "file_extension": ".py",
   "mimetype": "text/x-python",
   "name": "python",
   "nbconvert_exporter": "python",
   "pygments_lexer": "ipython2",
   "version": "2.7.16"
  }
 },
 "nbformat": 4,
 "nbformat_minor": 2
}
